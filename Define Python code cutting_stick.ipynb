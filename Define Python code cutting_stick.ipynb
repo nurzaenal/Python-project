{
 "cells": [
  {
   "cell_type": "markdown",
   "id": "86f4391e",
   "metadata": {},
   "source": [
    "# 1. Python code : There are a number of n sticks with different lengths. The sticks will be cut to the length of the shortest stick. The cutting process continues until there are no more sticks that can be cut.\n",
    "What you need to do:\n",
    "Create a function that returns the number of iterations required until there are no more sticks that can be cut."
   ]
  },
  {
   "cell_type": "code",
   "execution_count": 1,
   "id": "180f7068",
   "metadata": {},
   "outputs": [],
   "source": [
    "def cut_sticks(list_sticks):\n",
    "    iteration = 1\n",
    "    while len(list_sticks) > 0:\n",
    "        # Find the shortest stick\n",
    "        non_none_sticks = [x for x in list_sticks if x is not None]\n",
    "        if non_none_sticks:\n",
    "            min_length = min(non_none_sticks)\n",
    "        else:\n",
    "            break\n",
    "\n",
    "        # Cut all sticks to the length of the shortest stick\n",
    "        for i in range(len(list_sticks)):\n",
    "            if list_sticks[i] is not None:\n",
    "                list_sticks[i] -= min_length\n",
    "\n",
    "        # Remove sticks that have been cut completely\n",
    "        list_sticks = [x if x is not None and x > 0 else None for x in list_sticks]\n",
    "\n",
    "        # Check if all sticks are null\n",
    "        if all(x is None for x in list_sticks):\n",
    "            break\n",
    "\n",
    "        # Display the iteration number, shortest stick length, and updated list of sticks\n",
    "        if list_sticks.count(None) != len(list_sticks):\n",
    "            print(\"Ripper\", iteration, \":\")\n",
    "            print(\"Shortest stick length =\", min_length)\n",
    "            sticks_str = [str(x) if x is not None else 'null' for x in list_sticks]\n",
    "            sticks_str = ', '.join(sticks_str)\n",
    "            print(\"List of sticks after being shortened by\", min_length, \"=[\", sticks_str,\"]\")\n",
    "            print()\n",
    "\n",
    "        iteration += 1\n",
    "\n",
    "    return iteration - 1"
   ]
  },
  {
   "cell_type": "code",
   "execution_count": 2,
   "id": "9ef4188f",
   "metadata": {},
   "outputs": [
    {
     "name": "stdout",
     "output_type": "stream",
     "text": [
      "Ripper 1 :\n",
      "Shortest stick length = 1\n",
      "List of sticks after being shortened by 1 =[ 4, 2, null, 5 ]\n",
      "\n",
      "Ripper 2 :\n",
      "Shortest stick length = 2\n",
      "List of sticks after being shortened by 2 =[ 2, null, null, 3 ]\n",
      "\n",
      "Ripper 3 :\n",
      "Shortest stick length = 2\n",
      "List of sticks after being shortened by 2 =[ null, null, null, 1 ]\n",
      "\n",
      "Last iteration: 3\n"
     ]
    }
   ],
   "source": [
    "list_sticks = [5, 3, 1, 6]\n",
    "last_iteration = cut_sticks(list_sticks)\n",
    "print(\"Last iteration:\", last_iteration)"
   ]
  },
  {
   "cell_type": "markdown",
   "id": "2ddb1d20",
   "metadata": {},
   "source": [
    "# 2. Indonesian "
   ]
  },
  {
   "cell_type": "code",
   "execution_count": 3,
   "id": "15f940c5",
   "metadata": {},
   "outputs": [],
   "source": [
    "def cut_sticks(list_tongkat):\n",
    "    iteration = 1\n",
    "    while len(list_tongkat) > 0:\n",
    "        # Find the shortest stick\n",
    "        non_none_sticks = [x for x in list_tongkat if x is not None]\n",
    "        if non_none_sticks:\n",
    "            min_length = min(non_none_sticks)\n",
    "        else:\n",
    "            break\n",
    "\n",
    "        # Cut all sticks to the length of the shortest stick\n",
    "        for i in range(len(list_tongkat)):\n",
    "            if list_tongkat[i] is not None:\n",
    "                list_tongkat[i] -= min_length\n",
    "\n",
    "        # Remove sticks that have been cut completely\n",
    "        list_tongkat = [x if x is not None and x > 0 else None for x in list_tongkat]\n",
    "\n",
    "        # Check if all sticks are null\n",
    "        if all(x is None for x in list_tongkat):\n",
    "            break\n",
    "\n",
    "        # Display the iteration number, shortest stick length, and updated list of sticks\n",
    "        if list_tongkat.count(None) != len(list_tongkat):\n",
    "            print(\"Iterasi\", iteration, \":\")\n",
    "            print(\"Tongkat terpendek =\", min_length)\n",
    "            sticks_str = [str(x) if x is not None else 'null' for x in list_tongkat]\n",
    "            sticks_str = ', '.join(sticks_str)\n",
    "            print(\"List tongkat setelah dikurangi\", min_length, \"=[\", sticks_str,\"]\")\n",
    "            print()\n",
    "\n",
    "        iteration += 1\n",
    "\n",
    "    return iteration - 1"
   ]
  },
  {
   "cell_type": "code",
   "execution_count": 4,
   "id": "0ce54d52",
   "metadata": {},
   "outputs": [
    {
     "name": "stdout",
     "output_type": "stream",
     "text": [
      "Iterasi 1 :\n",
      "Tongkat terpendek = 1\n",
      "List tongkat setelah dikurangi 1 =[ 4, 2, null, 5 ]\n",
      "\n",
      "Iterasi 2 :\n",
      "Tongkat terpendek = 2\n",
      "List tongkat setelah dikurangi 2 =[ 2, null, null, 3 ]\n",
      "\n",
      "Iterasi 3 :\n",
      "Tongkat terpendek = 2\n",
      "List tongkat setelah dikurangi 2 =[ null, null, null, 1 ]\n",
      "\n",
      "Last iteration: 3\n"
     ]
    }
   ],
   "source": [
    "list_tongkat = [5, 3, 1, 6]\n",
    "last_iteration = cut_sticks(list_tongkat)\n",
    "print(\"Last iteration:\", last_iteration)"
   ]
  },
  {
   "cell_type": "code",
   "execution_count": null,
   "id": "ae65de99",
   "metadata": {},
   "outputs": [],
   "source": []
  }
 ],
 "metadata": {
  "kernelspec": {
   "display_name": "Python 3 (ipykernel)",
   "language": "python",
   "name": "python3"
  },
  "language_info": {
   "codemirror_mode": {
    "name": "ipython",
    "version": 3
   },
   "file_extension": ".py",
   "mimetype": "text/x-python",
   "name": "python",
   "nbconvert_exporter": "python",
   "pygments_lexer": "ipython3",
   "version": "3.9.13"
  }
 },
 "nbformat": 4,
 "nbformat_minor": 5
}
